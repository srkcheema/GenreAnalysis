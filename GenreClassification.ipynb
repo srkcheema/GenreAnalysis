{
  "cells": [
    {
      "cell_type": "code",
      "execution_count": 1,
      "metadata": {
        "colab": {
          "base_uri": "https://localhost:8080/"
        },
        "id": "iHaEZtz3vGRR",
        "outputId": "d6c0ba28-44f1-468d-c1fd-ee44e185cd0b"
      },
      "outputs": [
        {
          "name": "stderr",
          "output_type": "stream",
          "text": [
            "[nltk_data] Downloading package stopwords to /root/nltk_data...\n",
            "[nltk_data]   Package stopwords is already up-to-date!\n"
          ]
        }
      ],
      "source": [
        "#Importing all the neccessary libraries\n",
        "import pandas as pd\n",
        "import numpy as np\n",
        "import matplotlib.pyplot as plt\n",
        "import seaborn as sns\n",
        "\n",
        "import re\n",
        "import string\n",
        "from wordcloud import WordCloud\n",
        "from collections import Counter\n",
        "\n",
        "import nltk\n",
        "from nltk import word_tokenize\n",
        "from nltk.corpus import stopwords\n",
        "from nltk.stem.snowball import SnowballStemmer\n",
        "from nltk.tokenize import WhitespaceTokenizer as w_tokenizer\n",
        "nltk.download('stopwords')\n",
        "\n",
        "from sklearn.feature_extraction.text import TfidfVectorizer"
      ]
    },
    {
      "cell_type": "markdown",
      "metadata": {
        "id": "a8lCuhj3vbNH"
      },
      "source": [
        "**Load Data**\n",
        "\n",
        "\n"
      ]
    },
    {
      "cell_type": "code",
      "execution_count": 2,
      "metadata": {
        "colab": {
          "base_uri": "https://localhost:8080/",
          "height": 350
        },
        "id": "Z6EvpqT8sWj1",
        "outputId": "c2751352-765b-4aef-eb39-c2bac8d481f0"
      },
      "outputs": [
        {
          "data": {
            "text/html": [
              "\n",
              "  <div id=\"df-5ae04762-6dbf-4d48-8cf9-c109431679a0\">\n",
              "    <div class=\"colab-df-container\">\n",
              "      <div>\n",
              "<style scoped>\n",
              "    .dataframe tbody tr th:only-of-type {\n",
              "        vertical-align: middle;\n",
              "    }\n",
              "\n",
              "    .dataframe tbody tr th {\n",
              "        vertical-align: top;\n",
              "    }\n",
              "\n",
              "    .dataframe thead th {\n",
              "        text-align: right;\n",
              "    }\n",
              "</style>\n",
              "<table border=\"1\" class=\"dataframe\">\n",
              "  <thead>\n",
              "    <tr style=\"text-align: right;\">\n",
              "      <th></th>\n",
              "      <th>Unnamed: 0</th>\n",
              "      <th>title</th>\n",
              "      <th>rating</th>\n",
              "      <th>name</th>\n",
              "      <th>num_ratings</th>\n",
              "      <th>num_reviews</th>\n",
              "      <th>num_followers</th>\n",
              "      <th>synopsis</th>\n",
              "      <th>genre</th>\n",
              "    </tr>\n",
              "  </thead>\n",
              "  <tbody>\n",
              "    <tr>\n",
              "      <th>0</th>\n",
              "      <td>0</td>\n",
              "      <td>Sapiens: A Brief History of Humankind</td>\n",
              "      <td>4.39</td>\n",
              "      <td>Yuval Noah Harari</td>\n",
              "      <td>8,06,229</td>\n",
              "      <td>46,149</td>\n",
              "      <td>30.5k</td>\n",
              "      <td>100,000 years ago, at least six human species ...</td>\n",
              "      <td>history</td>\n",
              "    </tr>\n",
              "    <tr>\n",
              "      <th>1</th>\n",
              "      <td>1</td>\n",
              "      <td>Guns, Germs, and Steel: The Fates of Human Soc...</td>\n",
              "      <td>4.04</td>\n",
              "      <td>Jared Diamond</td>\n",
              "      <td>3,67,056</td>\n",
              "      <td>12,879</td>\n",
              "      <td>6,538</td>\n",
              "      <td>\"Diamond has written a book of remarkable scop...</td>\n",
              "      <td>history</td>\n",
              "    </tr>\n",
              "    <tr>\n",
              "      <th>2</th>\n",
              "      <td>2</td>\n",
              "      <td>A People's History of the United States</td>\n",
              "      <td>4.07</td>\n",
              "      <td>Howard Zinn</td>\n",
              "      <td>2,24,620</td>\n",
              "      <td>6,509</td>\n",
              "      <td>2,354</td>\n",
              "      <td>In the book, Zinn presented a different side o...</td>\n",
              "      <td>history</td>\n",
              "    </tr>\n",
              "    <tr>\n",
              "      <th>3</th>\n",
              "      <td>3</td>\n",
              "      <td>The Devil in the White City: Murder, Magic, an...</td>\n",
              "      <td>3.99</td>\n",
              "      <td>Erik Larson</td>\n",
              "      <td>6,13,157</td>\n",
              "      <td>36,644</td>\n",
              "      <td>64.2k</td>\n",
              "      <td>Author Erik Larson imbues the incredible event...</td>\n",
              "      <td>history</td>\n",
              "    </tr>\n",
              "    <tr>\n",
              "      <th>4</th>\n",
              "      <td>4</td>\n",
              "      <td>The Diary of a Young Girl</td>\n",
              "      <td>4.18</td>\n",
              "      <td>Anne Frank</td>\n",
              "      <td>33,13,033</td>\n",
              "      <td>35,591</td>\n",
              "      <td>4,621</td>\n",
              "      <td>Discovered in the attic in which she spent the...</td>\n",
              "      <td>history</td>\n",
              "    </tr>\n",
              "  </tbody>\n",
              "</table>\n",
              "</div>\n",
              "      <button class=\"colab-df-convert\" onclick=\"convertToInteractive('df-5ae04762-6dbf-4d48-8cf9-c109431679a0')\"\n",
              "              title=\"Convert this dataframe to an interactive table.\"\n",
              "              style=\"display:none;\">\n",
              "        \n",
              "  <svg xmlns=\"http://www.w3.org/2000/svg\" height=\"24px\"viewBox=\"0 0 24 24\"\n",
              "       width=\"24px\">\n",
              "    <path d=\"M0 0h24v24H0V0z\" fill=\"none\"/>\n",
              "    <path d=\"M18.56 5.44l.94 2.06.94-2.06 2.06-.94-2.06-.94-.94-2.06-.94 2.06-2.06.94zm-11 1L8.5 8.5l.94-2.06 2.06-.94-2.06-.94L8.5 2.5l-.94 2.06-2.06.94zm10 10l.94 2.06.94-2.06 2.06-.94-2.06-.94-.94-2.06-.94 2.06-2.06.94z\"/><path d=\"M17.41 7.96l-1.37-1.37c-.4-.4-.92-.59-1.43-.59-.52 0-1.04.2-1.43.59L10.3 9.45l-7.72 7.72c-.78.78-.78 2.05 0 2.83L4 21.41c.39.39.9.59 1.41.59.51 0 1.02-.2 1.41-.59l7.78-7.78 2.81-2.81c.8-.78.8-2.07 0-2.86zM5.41 20L4 18.59l7.72-7.72 1.47 1.35L5.41 20z\"/>\n",
              "  </svg>\n",
              "      </button>\n",
              "      \n",
              "  <style>\n",
              "    .colab-df-container {\n",
              "      display:flex;\n",
              "      flex-wrap:wrap;\n",
              "      gap: 12px;\n",
              "    }\n",
              "\n",
              "    .colab-df-convert {\n",
              "      background-color: #E8F0FE;\n",
              "      border: none;\n",
              "      border-radius: 50%;\n",
              "      cursor: pointer;\n",
              "      display: none;\n",
              "      fill: #1967D2;\n",
              "      height: 32px;\n",
              "      padding: 0 0 0 0;\n",
              "      width: 32px;\n",
              "    }\n",
              "\n",
              "    .colab-df-convert:hover {\n",
              "      background-color: #E2EBFA;\n",
              "      box-shadow: 0px 1px 2px rgba(60, 64, 67, 0.3), 0px 1px 3px 1px rgba(60, 64, 67, 0.15);\n",
              "      fill: #174EA6;\n",
              "    }\n",
              "\n",
              "    [theme=dark] .colab-df-convert {\n",
              "      background-color: #3B4455;\n",
              "      fill: #D2E3FC;\n",
              "    }\n",
              "\n",
              "    [theme=dark] .colab-df-convert:hover {\n",
              "      background-color: #434B5C;\n",
              "      box-shadow: 0px 1px 3px 1px rgba(0, 0, 0, 0.15);\n",
              "      filter: drop-shadow(0px 1px 2px rgba(0, 0, 0, 0.3));\n",
              "      fill: #FFFFFF;\n",
              "    }\n",
              "  </style>\n",
              "\n",
              "      <script>\n",
              "        const buttonEl =\n",
              "          document.querySelector('#df-5ae04762-6dbf-4d48-8cf9-c109431679a0 button.colab-df-convert');\n",
              "        buttonEl.style.display =\n",
              "          google.colab.kernel.accessAllowed ? 'block' : 'none';\n",
              "\n",
              "        async function convertToInteractive(key) {\n",
              "          const element = document.querySelector('#df-5ae04762-6dbf-4d48-8cf9-c109431679a0');\n",
              "          const dataTable =\n",
              "            await google.colab.kernel.invokeFunction('convertToInteractive',\n",
              "                                                     [key], {});\n",
              "          if (!dataTable) return;\n",
              "\n",
              "          const docLinkHtml = 'Like what you see? Visit the ' +\n",
              "            '<a target=\"_blank\" href=https://colab.research.google.com/notebooks/data_table.ipynb>data table notebook</a>'\n",
              "            + ' to learn more about interactive tables.';\n",
              "          element.innerHTML = '';\n",
              "          dataTable['output_type'] = 'display_data';\n",
              "          await google.colab.output.renderOutput(dataTable, element);\n",
              "          const docLink = document.createElement('div');\n",
              "          docLink.innerHTML = docLinkHtml;\n",
              "          element.appendChild(docLink);\n",
              "        }\n",
              "      </script>\n",
              "    </div>\n",
              "  </div>\n",
              "  "
            ],
            "text/plain": [
              "   Unnamed: 0                                              title  rating  \\\n",
              "0           0              Sapiens: A Brief History of Humankind    4.39   \n",
              "1           1  Guns, Germs, and Steel: The Fates of Human Soc...    4.04   \n",
              "2           2            A People's History of the United States    4.07   \n",
              "3           3  The Devil in the White City: Murder, Magic, an...    3.99   \n",
              "4           4                          The Diary of a Young Girl    4.18   \n",
              "\n",
              "                name num_ratings num_reviews num_followers  \\\n",
              "0  Yuval Noah Harari    8,06,229      46,149         30.5k   \n",
              "1      Jared Diamond    3,67,056      12,879         6,538   \n",
              "2        Howard Zinn    2,24,620       6,509         2,354   \n",
              "3        Erik Larson    6,13,157      36,644         64.2k   \n",
              "4         Anne Frank   33,13,033      35,591         4,621   \n",
              "\n",
              "                                            synopsis    genre  \n",
              "0  100,000 years ago, at least six human species ...  history  \n",
              "1  \"Diamond has written a book of remarkable scop...  history  \n",
              "2  In the book, Zinn presented a different side o...  history  \n",
              "3  Author Erik Larson imbues the incredible event...  history  \n",
              "4  Discovered in the attic in which she spent the...  history  "
            ]
          },
          "execution_count": 2,
          "metadata": {},
          "output_type": "execute_result"
        }
      ],
      "source": [
        "df=pd.read_csv('https://raw.githubusercontent.com/srkcheema/GenreAnalysis/main/data.csv')\n",
        "df.head()"
      ]
    },
    {
      "cell_type": "markdown",
      "metadata": {
        "id": "GceA6qElvsGH"
      },
      "source": [
        "## **Data Cleaning**"
      ]
    },
    {
      "cell_type": "code",
      "execution_count": 3,
      "metadata": {
        "colab": {
          "base_uri": "https://localhost:8080/"
        },
        "id": "LO4fPp8uApgW",
        "outputId": "03695cec-6c6d-4e2e-81e2-7021d2f25992"
      },
      "outputs": [
        {
          "data": {
            "text/plain": [
              "(1539, 9)"
            ]
          },
          "execution_count": 3,
          "metadata": {},
          "output_type": "execute_result"
        }
      ],
      "source": [
        "df.shape"
      ]
    },
    {
      "cell_type": "code",
      "execution_count": 4,
      "metadata": {
        "colab": {
          "base_uri": "https://localhost:8080/"
        },
        "id": "QJ6k5aNysWmL",
        "outputId": "b0c19135-4cc1-4165-f889-edaabe7c95bf"
      },
      "outputs": [
        {
          "name": "stdout",
          "output_type": "stream",
          "text": [
            "<class 'pandas.core.frame.DataFrame'>\n",
            "RangeIndex: 1539 entries, 0 to 1538\n",
            "Data columns (total 9 columns):\n",
            " #   Column         Non-Null Count  Dtype  \n",
            "---  ------         --------------  -----  \n",
            " 0   Unnamed: 0     1539 non-null   int64  \n",
            " 1   title          1539 non-null   object \n",
            " 2   rating         1539 non-null   float64\n",
            " 3   name           1539 non-null   object \n",
            " 4   num_ratings    1539 non-null   object \n",
            " 5   num_reviews    1539 non-null   object \n",
            " 6   num_followers  1539 non-null   object \n",
            " 7   synopsis       1539 non-null   object \n",
            " 8   genre          1539 non-null   object \n",
            "dtypes: float64(1), int64(1), object(7)\n",
            "memory usage: 108.3+ KB\n"
          ]
        }
      ],
      "source": [
        "df.info()"
      ]
    },
    {
      "cell_type": "markdown",
      "metadata": {
        "id": "a7VMGd7EyVfD"
      },
      "source": [
        "\n",
        "\n",
        "#### **1.   Drop *Unamed: 0* Column**\n",
        "\n",
        "\n"
      ]
    },
    {
      "cell_type": "code",
      "execution_count": 5,
      "metadata": {
        "colab": {
          "base_uri": "https://localhost:8080/",
          "height": 204
        },
        "id": "YLPuCY7bw8dU",
        "outputId": "d83d5e74-248d-4b4c-8cc4-5d0e6e8a4b2d"
      },
      "outputs": [
        {
          "data": {
            "text/html": [
              "\n",
              "  <div id=\"df-c5db2c7a-1611-485e-a5af-759a4ccf5355\">\n",
              "    <div class=\"colab-df-container\">\n",
              "      <div>\n",
              "<style scoped>\n",
              "    .dataframe tbody tr th:only-of-type {\n",
              "        vertical-align: middle;\n",
              "    }\n",
              "\n",
              "    .dataframe tbody tr th {\n",
              "        vertical-align: top;\n",
              "    }\n",
              "\n",
              "    .dataframe thead th {\n",
              "        text-align: right;\n",
              "    }\n",
              "</style>\n",
              "<table border=\"1\" class=\"dataframe\">\n",
              "  <thead>\n",
              "    <tr style=\"text-align: right;\">\n",
              "      <th></th>\n",
              "      <th>title</th>\n",
              "      <th>rating</th>\n",
              "      <th>name</th>\n",
              "      <th>num_ratings</th>\n",
              "      <th>num_reviews</th>\n",
              "      <th>num_followers</th>\n",
              "      <th>synopsis</th>\n",
              "      <th>genre</th>\n",
              "    </tr>\n",
              "  </thead>\n",
              "  <tbody>\n",
              "    <tr>\n",
              "      <th>0</th>\n",
              "      <td>Sapiens: A Brief History of Humankind</td>\n",
              "      <td>4.39</td>\n",
              "      <td>Yuval Noah Harari</td>\n",
              "      <td>8,06,229</td>\n",
              "      <td>46,149</td>\n",
              "      <td>30.5k</td>\n",
              "      <td>100,000 years ago, at least six human species ...</td>\n",
              "      <td>history</td>\n",
              "    </tr>\n",
              "    <tr>\n",
              "      <th>1</th>\n",
              "      <td>Guns, Germs, and Steel: The Fates of Human Soc...</td>\n",
              "      <td>4.04</td>\n",
              "      <td>Jared Diamond</td>\n",
              "      <td>3,67,056</td>\n",
              "      <td>12,879</td>\n",
              "      <td>6,538</td>\n",
              "      <td>\"Diamond has written a book of remarkable scop...</td>\n",
              "      <td>history</td>\n",
              "    </tr>\n",
              "    <tr>\n",
              "      <th>2</th>\n",
              "      <td>A People's History of the United States</td>\n",
              "      <td>4.07</td>\n",
              "      <td>Howard Zinn</td>\n",
              "      <td>2,24,620</td>\n",
              "      <td>6,509</td>\n",
              "      <td>2,354</td>\n",
              "      <td>In the book, Zinn presented a different side o...</td>\n",
              "      <td>history</td>\n",
              "    </tr>\n",
              "    <tr>\n",
              "      <th>3</th>\n",
              "      <td>The Devil in the White City: Murder, Magic, an...</td>\n",
              "      <td>3.99</td>\n",
              "      <td>Erik Larson</td>\n",
              "      <td>6,13,157</td>\n",
              "      <td>36,644</td>\n",
              "      <td>64.2k</td>\n",
              "      <td>Author Erik Larson imbues the incredible event...</td>\n",
              "      <td>history</td>\n",
              "    </tr>\n",
              "    <tr>\n",
              "      <th>4</th>\n",
              "      <td>The Diary of a Young Girl</td>\n",
              "      <td>4.18</td>\n",
              "      <td>Anne Frank</td>\n",
              "      <td>33,13,033</td>\n",
              "      <td>35,591</td>\n",
              "      <td>4,621</td>\n",
              "      <td>Discovered in the attic in which she spent the...</td>\n",
              "      <td>history</td>\n",
              "    </tr>\n",
              "  </tbody>\n",
              "</table>\n",
              "</div>\n",
              "      <button class=\"colab-df-convert\" onclick=\"convertToInteractive('df-c5db2c7a-1611-485e-a5af-759a4ccf5355')\"\n",
              "              title=\"Convert this dataframe to an interactive table.\"\n",
              "              style=\"display:none;\">\n",
              "        \n",
              "  <svg xmlns=\"http://www.w3.org/2000/svg\" height=\"24px\"viewBox=\"0 0 24 24\"\n",
              "       width=\"24px\">\n",
              "    <path d=\"M0 0h24v24H0V0z\" fill=\"none\"/>\n",
              "    <path d=\"M18.56 5.44l.94 2.06.94-2.06 2.06-.94-2.06-.94-.94-2.06-.94 2.06-2.06.94zm-11 1L8.5 8.5l.94-2.06 2.06-.94-2.06-.94L8.5 2.5l-.94 2.06-2.06.94zm10 10l.94 2.06.94-2.06 2.06-.94-2.06-.94-.94-2.06-.94 2.06-2.06.94z\"/><path d=\"M17.41 7.96l-1.37-1.37c-.4-.4-.92-.59-1.43-.59-.52 0-1.04.2-1.43.59L10.3 9.45l-7.72 7.72c-.78.78-.78 2.05 0 2.83L4 21.41c.39.39.9.59 1.41.59.51 0 1.02-.2 1.41-.59l7.78-7.78 2.81-2.81c.8-.78.8-2.07 0-2.86zM5.41 20L4 18.59l7.72-7.72 1.47 1.35L5.41 20z\"/>\n",
              "  </svg>\n",
              "      </button>\n",
              "      \n",
              "  <style>\n",
              "    .colab-df-container {\n",
              "      display:flex;\n",
              "      flex-wrap:wrap;\n",
              "      gap: 12px;\n",
              "    }\n",
              "\n",
              "    .colab-df-convert {\n",
              "      background-color: #E8F0FE;\n",
              "      border: none;\n",
              "      border-radius: 50%;\n",
              "      cursor: pointer;\n",
              "      display: none;\n",
              "      fill: #1967D2;\n",
              "      height: 32px;\n",
              "      padding: 0 0 0 0;\n",
              "      width: 32px;\n",
              "    }\n",
              "\n",
              "    .colab-df-convert:hover {\n",
              "      background-color: #E2EBFA;\n",
              "      box-shadow: 0px 1px 2px rgba(60, 64, 67, 0.3), 0px 1px 3px 1px rgba(60, 64, 67, 0.15);\n",
              "      fill: #174EA6;\n",
              "    }\n",
              "\n",
              "    [theme=dark] .colab-df-convert {\n",
              "      background-color: #3B4455;\n",
              "      fill: #D2E3FC;\n",
              "    }\n",
              "\n",
              "    [theme=dark] .colab-df-convert:hover {\n",
              "      background-color: #434B5C;\n",
              "      box-shadow: 0px 1px 3px 1px rgba(0, 0, 0, 0.15);\n",
              "      filter: drop-shadow(0px 1px 2px rgba(0, 0, 0, 0.3));\n",
              "      fill: #FFFFFF;\n",
              "    }\n",
              "  </style>\n",
              "\n",
              "      <script>\n",
              "        const buttonEl =\n",
              "          document.querySelector('#df-c5db2c7a-1611-485e-a5af-759a4ccf5355 button.colab-df-convert');\n",
              "        buttonEl.style.display =\n",
              "          google.colab.kernel.accessAllowed ? 'block' : 'none';\n",
              "\n",
              "        async function convertToInteractive(key) {\n",
              "          const element = document.querySelector('#df-c5db2c7a-1611-485e-a5af-759a4ccf5355');\n",
              "          const dataTable =\n",
              "            await google.colab.kernel.invokeFunction('convertToInteractive',\n",
              "                                                     [key], {});\n",
              "          if (!dataTable) return;\n",
              "\n",
              "          const docLinkHtml = 'Like what you see? Visit the ' +\n",
              "            '<a target=\"_blank\" href=https://colab.research.google.com/notebooks/data_table.ipynb>data table notebook</a>'\n",
              "            + ' to learn more about interactive tables.';\n",
              "          element.innerHTML = '';\n",
              "          dataTable['output_type'] = 'display_data';\n",
              "          await google.colab.output.renderOutput(dataTable, element);\n",
              "          const docLink = document.createElement('div');\n",
              "          docLink.innerHTML = docLinkHtml;\n",
              "          element.appendChild(docLink);\n",
              "        }\n",
              "      </script>\n",
              "    </div>\n",
              "  </div>\n",
              "  "
            ],
            "text/plain": [
              "                                               title  rating  \\\n",
              "0              Sapiens: A Brief History of Humankind    4.39   \n",
              "1  Guns, Germs, and Steel: The Fates of Human Soc...    4.04   \n",
              "2            A People's History of the United States    4.07   \n",
              "3  The Devil in the White City: Murder, Magic, an...    3.99   \n",
              "4                          The Diary of a Young Girl    4.18   \n",
              "\n",
              "                name num_ratings num_reviews num_followers  \\\n",
              "0  Yuval Noah Harari    8,06,229      46,149         30.5k   \n",
              "1      Jared Diamond    3,67,056      12,879         6,538   \n",
              "2        Howard Zinn    2,24,620       6,509         2,354   \n",
              "3        Erik Larson    6,13,157      36,644         64.2k   \n",
              "4         Anne Frank   33,13,033      35,591         4,621   \n",
              "\n",
              "                                            synopsis    genre  \n",
              "0  100,000 years ago, at least six human species ...  history  \n",
              "1  \"Diamond has written a book of remarkable scop...  history  \n",
              "2  In the book, Zinn presented a different side o...  history  \n",
              "3  Author Erik Larson imbues the incredible event...  history  \n",
              "4  Discovered in the attic in which she spent the...  history  "
            ]
          },
          "execution_count": 5,
          "metadata": {},
          "output_type": "execute_result"
        }
      ],
      "source": [
        "#Drop Unnamed: 0 Column\n",
        "df.drop(columns = [\"Unnamed: 0\"], inplace = True)\n",
        "df.head()"
      ]
    },
    {
      "cell_type": "code",
      "execution_count": 6,
      "metadata": {
        "colab": {
          "base_uri": "https://localhost:8080/"
        },
        "id": "otVuyiVuxip3",
        "outputId": "0626420a-cdac-48b2-9370-7fc3ab87ef4c"
      },
      "outputs": [
        {
          "data": {
            "text/plain": [
              "title             object\n",
              "rating           float64\n",
              "name              object\n",
              "num_ratings       object\n",
              "num_reviews       object\n",
              "num_followers     object\n",
              "synopsis          object\n",
              "genre             object\n",
              "dtype: object"
            ]
          },
          "execution_count": 6,
          "metadata": {},
          "output_type": "execute_result"
        }
      ],
      "source": [
        "df.dtypes"
      ]
    },
    {
      "cell_type": "markdown",
      "metadata": {
        "id": "H0mUbgNwyzHX"
      },
      "source": [
        "#### **2.   Convert *num_followers* column to integer**"
      ]
    },
    {
      "cell_type": "code",
      "execution_count": 7,
      "metadata": {
        "id": "6fIZyhxp1NWc"
      },
      "outputs": [],
      "source": [
        "df['num_followers'].replace({'k': '*1000', ',': '', ' followers': '',}, regex=True, inplace=True) #Replace comma and k \n",
        "inter_m=df[\"num_followers\"].str.split(\"*\",expand=True).astype('float')                            #split columns and store in intermediate dataset\n",
        "inter_m = inter_m.fillna(1)                                                                       #fill NaN values in intermediate dataset with 1\n",
        "df[\"num_followers\"]=inter_m[0] * inter_m[1]                                                       #multiple columns and store in num_followers column\n",
        "df['num_followers'] = df['num_followers'].astype(int)                                             #change num_followers type to Integer"
      ]
    },
    {
      "cell_type": "code",
      "execution_count": 8,
      "metadata": {
        "colab": {
          "base_uri": "https://localhost:8080/"
        },
        "id": "WiDskjIS-BCP",
        "outputId": "476ef134-d563-43ec-e1b0-b83c8289ef63"
      },
      "outputs": [
        {
          "data": {
            "text/plain": [
              "title             object\n",
              "rating           float64\n",
              "name              object\n",
              "num_ratings       object\n",
              "num_reviews       object\n",
              "num_followers      int64\n",
              "synopsis          object\n",
              "genre             object\n",
              "dtype: object"
            ]
          },
          "execution_count": 8,
          "metadata": {},
          "output_type": "execute_result"
        }
      ],
      "source": [
        "df.dtypes"
      ]
    }
  ],
  "metadata": {
    "accelerator": "GPU",
    "colab": {
      "provenance": []
    },
    "gpuClass": "standard",
    "kernelspec": {
      "display_name": "Python 3",
      "name": "python3"
    },
    "language_info": {
      "name": "python"
    }
  },
  "nbformat": 4,
  "nbformat_minor": 0
}
