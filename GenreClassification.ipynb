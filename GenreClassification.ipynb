{
  "cells": [
    {
      "cell_type": "markdown",
      "metadata": {
        "id": "Bz8KDMTxKu9B"
      },
      "source": [
        "### **1. Naive Bayes Model**\n",
        "\n",
        "\n",
        "\n"
      ]
    },
    {
      "cell_type": "code",
      "execution_count": 1,
      "metadata": {
        "colab": {
          "base_uri": "https://localhost:8080/"
        },
        "id": "iHaEZtz3vGRR",
        "outputId": "64814e2b-3e7f-43f3-8691-ff16ef20e048"
      },
      "outputs": [
        {
          "name": "stderr",
          "output_type": "stream",
          "text": [
            "[nltk_data] Downloading package stopwords to /root/nltk_data...\n",
            "[nltk_data]   Package stopwords is already up-to-date!\n"
          ]
        }
      ],
      "source": [
        "#Importing all the neccessary libraries\n",
        "import pandas as pd\n",
        "import numpy as np\n",
        "import matplotlib.pyplot as plt\n",
        "import seaborn as sns\n",
        "\n",
        "import re\n",
        "import string\n",
        "from wordcloud import WordCloud\n",
        "from collections import Counter\n",
        "\n",
        "import nltk\n",
        "from nltk import word_tokenize\n",
        "from nltk.corpus import stopwords\n",
        "from nltk.stem.snowball import SnowballStemmer\n",
        "from nltk.tokenize import WhitespaceTokenizer as w_tokenizer\n",
        "nltk.download('stopwords')\n",
        "\n",
        "#!pip install scikit-plot\n",
        "from sklearn.preprocessing import LabelEncoder\n",
        "from sklearn.model_selection import train_test_split\n",
        "from sklearn.feature_extraction.text import TfidfVectorizer\n",
        "from scikitplot.metrics import plot_confusion_matrix, plot_roc\n",
        "from sklearn.metrics import accuracy_score, precision_score, recall_score, f1_score"
      ]
    },
    {
      "cell_type": "markdown",
      "metadata": {
        "id": "a8lCuhj3vbNH"
      },
      "source": [
        "**Load Data**\n",
        "\n",
        "\n"
      ]
    },
    {
      "cell_type": "code",
      "execution_count": 2,
      "metadata": {
        "colab": {
          "base_uri": "https://localhost:8080/",
          "height": 350
        },
        "id": "Z6EvpqT8sWj1",
        "outputId": "3457717a-9cc8-4659-ebe5-65f6dfc4a426"
      },
      "outputs": [
        {
          "data": {
            "text/html": [
              "\n",
              "  <div id=\"df-c8a60aa0-422a-4ee4-bde2-4c489dcb2ddc\">\n",
              "    <div class=\"colab-df-container\">\n",
              "      <div>\n",
              "<style scoped>\n",
              "    .dataframe tbody tr th:only-of-type {\n",
              "        vertical-align: middle;\n",
              "    }\n",
              "\n",
              "    .dataframe tbody tr th {\n",
              "        vertical-align: top;\n",
              "    }\n",
              "\n",
              "    .dataframe thead th {\n",
              "        text-align: right;\n",
              "    }\n",
              "</style>\n",
              "<table border=\"1\" class=\"dataframe\">\n",
              "  <thead>\n",
              "    <tr style=\"text-align: right;\">\n",
              "      <th></th>\n",
              "      <th>Unnamed: 0</th>\n",
              "      <th>title</th>\n",
              "      <th>rating</th>\n",
              "      <th>name</th>\n",
              "      <th>num_ratings</th>\n",
              "      <th>num_reviews</th>\n",
              "      <th>num_followers</th>\n",
              "      <th>synopsis</th>\n",
              "      <th>genre</th>\n",
              "    </tr>\n",
              "  </thead>\n",
              "  <tbody>\n",
              "    <tr>\n",
              "      <th>0</th>\n",
              "      <td>0</td>\n",
              "      <td>Sapiens: A Brief History of Humankind</td>\n",
              "      <td>4.39</td>\n",
              "      <td>Yuval Noah Harari</td>\n",
              "      <td>8,06,229</td>\n",
              "      <td>46,149</td>\n",
              "      <td>30.5k</td>\n",
              "      <td>100,000 years ago, at least six human species ...</td>\n",
              "      <td>history</td>\n",
              "    </tr>\n",
              "    <tr>\n",
              "      <th>1</th>\n",
              "      <td>1</td>\n",
              "      <td>Guns, Germs, and Steel: The Fates of Human Soc...</td>\n",
              "      <td>4.04</td>\n",
              "      <td>Jared Diamond</td>\n",
              "      <td>3,67,056</td>\n",
              "      <td>12,879</td>\n",
              "      <td>6,538</td>\n",
              "      <td>\"Diamond has written a book of remarkable scop...</td>\n",
              "      <td>history</td>\n",
              "    </tr>\n",
              "    <tr>\n",
              "      <th>2</th>\n",
              "      <td>2</td>\n",
              "      <td>A People's History of the United States</td>\n",
              "      <td>4.07</td>\n",
              "      <td>Howard Zinn</td>\n",
              "      <td>2,24,620</td>\n",
              "      <td>6,509</td>\n",
              "      <td>2,354</td>\n",
              "      <td>In the book, Zinn presented a different side o...</td>\n",
              "      <td>history</td>\n",
              "    </tr>\n",
              "    <tr>\n",
              "      <th>3</th>\n",
              "      <td>3</td>\n",
              "      <td>The Devil in the White City: Murder, Magic, an...</td>\n",
              "      <td>3.99</td>\n",
              "      <td>Erik Larson</td>\n",
              "      <td>6,13,157</td>\n",
              "      <td>36,644</td>\n",
              "      <td>64.2k</td>\n",
              "      <td>Author Erik Larson imbues the incredible event...</td>\n",
              "      <td>history</td>\n",
              "    </tr>\n",
              "    <tr>\n",
              "      <th>4</th>\n",
              "      <td>4</td>\n",
              "      <td>The Diary of a Young Girl</td>\n",
              "      <td>4.18</td>\n",
              "      <td>Anne Frank</td>\n",
              "      <td>33,13,033</td>\n",
              "      <td>35,591</td>\n",
              "      <td>4,621</td>\n",
              "      <td>Discovered in the attic in which she spent the...</td>\n",
              "      <td>history</td>\n",
              "    </tr>\n",
              "  </tbody>\n",
              "</table>\n",
              "</div>\n",
              "      <button class=\"colab-df-convert\" onclick=\"convertToInteractive('df-c8a60aa0-422a-4ee4-bde2-4c489dcb2ddc')\"\n",
              "              title=\"Convert this dataframe to an interactive table.\"\n",
              "              style=\"display:none;\">\n",
              "        \n",
              "  <svg xmlns=\"http://www.w3.org/2000/svg\" height=\"24px\"viewBox=\"0 0 24 24\"\n",
              "       width=\"24px\">\n",
              "    <path d=\"M0 0h24v24H0V0z\" fill=\"none\"/>\n",
              "    <path d=\"M18.56 5.44l.94 2.06.94-2.06 2.06-.94-2.06-.94-.94-2.06-.94 2.06-2.06.94zm-11 1L8.5 8.5l.94-2.06 2.06-.94-2.06-.94L8.5 2.5l-.94 2.06-2.06.94zm10 10l.94 2.06.94-2.06 2.06-.94-2.06-.94-.94-2.06-.94 2.06-2.06.94z\"/><path d=\"M17.41 7.96l-1.37-1.37c-.4-.4-.92-.59-1.43-.59-.52 0-1.04.2-1.43.59L10.3 9.45l-7.72 7.72c-.78.78-.78 2.05 0 2.83L4 21.41c.39.39.9.59 1.41.59.51 0 1.02-.2 1.41-.59l7.78-7.78 2.81-2.81c.8-.78.8-2.07 0-2.86zM5.41 20L4 18.59l7.72-7.72 1.47 1.35L5.41 20z\"/>\n",
              "  </svg>\n",
              "      </button>\n",
              "      \n",
              "  <style>\n",
              "    .colab-df-container {\n",
              "      display:flex;\n",
              "      flex-wrap:wrap;\n",
              "      gap: 12px;\n",
              "    }\n",
              "\n",
              "    .colab-df-convert {\n",
              "      background-color: #E8F0FE;\n",
              "      border: none;\n",
              "      border-radius: 50%;\n",
              "      cursor: pointer;\n",
              "      display: none;\n",
              "      fill: #1967D2;\n",
              "      height: 32px;\n",
              "      padding: 0 0 0 0;\n",
              "      width: 32px;\n",
              "    }\n",
              "\n",
              "    .colab-df-convert:hover {\n",
              "      background-color: #E2EBFA;\n",
              "      box-shadow: 0px 1px 2px rgba(60, 64, 67, 0.3), 0px 1px 3px 1px rgba(60, 64, 67, 0.15);\n",
              "      fill: #174EA6;\n",
              "    }\n",
              "\n",
              "    [theme=dark] .colab-df-convert {\n",
              "      background-color: #3B4455;\n",
              "      fill: #D2E3FC;\n",
              "    }\n",
              "\n",
              "    [theme=dark] .colab-df-convert:hover {\n",
              "      background-color: #434B5C;\n",
              "      box-shadow: 0px 1px 3px 1px rgba(0, 0, 0, 0.15);\n",
              "      filter: drop-shadow(0px 1px 2px rgba(0, 0, 0, 0.3));\n",
              "      fill: #FFFFFF;\n",
              "    }\n",
              "  </style>\n",
              "\n",
              "      <script>\n",
              "        const buttonEl =\n",
              "          document.querySelector('#df-c8a60aa0-422a-4ee4-bde2-4c489dcb2ddc button.colab-df-convert');\n",
              "        buttonEl.style.display =\n",
              "          google.colab.kernel.accessAllowed ? 'block' : 'none';\n",
              "\n",
              "        async function convertToInteractive(key) {\n",
              "          const element = document.querySelector('#df-c8a60aa0-422a-4ee4-bde2-4c489dcb2ddc');\n",
              "          const dataTable =\n",
              "            await google.colab.kernel.invokeFunction('convertToInteractive',\n",
              "                                                     [key], {});\n",
              "          if (!dataTable) return;\n",
              "\n",
              "          const docLinkHtml = 'Like what you see? Visit the ' +\n",
              "            '<a target=\"_blank\" href=https://colab.research.google.com/notebooks/data_table.ipynb>data table notebook</a>'\n",
              "            + ' to learn more about interactive tables.';\n",
              "          element.innerHTML = '';\n",
              "          dataTable['output_type'] = 'display_data';\n",
              "          await google.colab.output.renderOutput(dataTable, element);\n",
              "          const docLink = document.createElement('div');\n",
              "          docLink.innerHTML = docLinkHtml;\n",
              "          element.appendChild(docLink);\n",
              "        }\n",
              "      </script>\n",
              "    </div>\n",
              "  </div>\n",
              "  "
            ],
            "text/plain": [
              "   Unnamed: 0                                              title  rating  \\\n",
              "0           0              Sapiens: A Brief History of Humankind    4.39   \n",
              "1           1  Guns, Germs, and Steel: The Fates of Human Soc...    4.04   \n",
              "2           2            A People's History of the United States    4.07   \n",
              "3           3  The Devil in the White City: Murder, Magic, an...    3.99   \n",
              "4           4                          The Diary of a Young Girl    4.18   \n",
              "\n",
              "                name num_ratings num_reviews num_followers  \\\n",
              "0  Yuval Noah Harari    8,06,229      46,149         30.5k   \n",
              "1      Jared Diamond    3,67,056      12,879         6,538   \n",
              "2        Howard Zinn    2,24,620       6,509         2,354   \n",
              "3        Erik Larson    6,13,157      36,644         64.2k   \n",
              "4         Anne Frank   33,13,033      35,591         4,621   \n",
              "\n",
              "                                            synopsis    genre  \n",
              "0  100,000 years ago, at least six human species ...  history  \n",
              "1  \"Diamond has written a book of remarkable scop...  history  \n",
              "2  In the book, Zinn presented a different side o...  history  \n",
              "3  Author Erik Larson imbues the incredible event...  history  \n",
              "4  Discovered in the attic in which she spent the...  history  "
            ]
          },
          "execution_count": 2,
          "metadata": {},
          "output_type": "execute_result"
        }
      ],
      "source": [
        "df=pd.read_csv('https://raw.githubusercontent.com/srkcheema/GenreAnalysis/main/data.csv')\n",
        "df.head()"
      ]
    },
    {
      "cell_type": "markdown",
      "metadata": {
        "id": "GceA6qElvsGH"
      },
      "source": [
        "## **Data Cleaning**"
      ]
    },
    {
      "cell_type": "code",
      "execution_count": 3,
      "metadata": {
        "colab": {
          "base_uri": "https://localhost:8080/"
        },
        "id": "LO4fPp8uApgW",
        "outputId": "30cb0b8e-2e34-4721-b96d-5eecc889fd26"
      },
      "outputs": [
        {
          "data": {
            "text/plain": [
              "(1539, 9)"
            ]
          },
          "execution_count": 3,
          "metadata": {},
          "output_type": "execute_result"
        }
      ],
      "source": [
        "df.shape"
      ]
    },
    {
      "cell_type": "code",
      "execution_count": 4,
      "metadata": {
        "colab": {
          "base_uri": "https://localhost:8080/"
        },
        "id": "QJ6k5aNysWmL",
        "outputId": "f9f402a8-d65a-4a88-87f3-9d6c1669dbe4"
      },
      "outputs": [
        {
          "name": "stdout",
          "output_type": "stream",
          "text": [
            "<class 'pandas.core.frame.DataFrame'>\n",
            "RangeIndex: 1539 entries, 0 to 1538\n",
            "Data columns (total 9 columns):\n",
            " #   Column         Non-Null Count  Dtype  \n",
            "---  ------         --------------  -----  \n",
            " 0   Unnamed: 0     1539 non-null   int64  \n",
            " 1   title          1539 non-null   object \n",
            " 2   rating         1539 non-null   float64\n",
            " 3   name           1539 non-null   object \n",
            " 4   num_ratings    1539 non-null   object \n",
            " 5   num_reviews    1539 non-null   object \n",
            " 6   num_followers  1539 non-null   object \n",
            " 7   synopsis       1539 non-null   object \n",
            " 8   genre          1539 non-null   object \n",
            "dtypes: float64(1), int64(1), object(7)\n",
            "memory usage: 108.3+ KB\n"
          ]
        }
      ],
      "source": [
        "df.info()"
      ]
    },
    {
      "cell_type": "markdown",
      "metadata": {
        "id": "a7VMGd7EyVfD"
      },
      "source": [
        "\n",
        "\n",
        "#### **1.   Drop *Unamed: 0* Column**\n",
        "\n",
        "\n"
      ]
    },
    {
      "cell_type": "code",
      "execution_count": 5,
      "metadata": {
        "colab": {
          "base_uri": "https://localhost:8080/",
          "height": 204
        },
        "id": "YLPuCY7bw8dU",
        "outputId": "67c73b23-37d2-4c91-c7f7-1978b24d31ac"
      },
      "outputs": [
        {
          "data": {
            "text/html": [
              "\n",
              "  <div id=\"df-2c9bed20-aba0-4673-8465-4dd94a7c5339\">\n",
              "    <div class=\"colab-df-container\">\n",
              "      <div>\n",
              "<style scoped>\n",
              "    .dataframe tbody tr th:only-of-type {\n",
              "        vertical-align: middle;\n",
              "    }\n",
              "\n",
              "    .dataframe tbody tr th {\n",
              "        vertical-align: top;\n",
              "    }\n",
              "\n",
              "    .dataframe thead th {\n",
              "        text-align: right;\n",
              "    }\n",
              "</style>\n",
              "<table border=\"1\" class=\"dataframe\">\n",
              "  <thead>\n",
              "    <tr style=\"text-align: right;\">\n",
              "      <th></th>\n",
              "      <th>title</th>\n",
              "      <th>rating</th>\n",
              "      <th>name</th>\n",
              "      <th>num_ratings</th>\n",
              "      <th>num_reviews</th>\n",
              "      <th>num_followers</th>\n",
              "      <th>synopsis</th>\n",
              "      <th>genre</th>\n",
              "    </tr>\n",
              "  </thead>\n",
              "  <tbody>\n",
              "    <tr>\n",
              "      <th>0</th>\n",
              "      <td>Sapiens: A Brief History of Humankind</td>\n",
              "      <td>4.39</td>\n",
              "      <td>Yuval Noah Harari</td>\n",
              "      <td>8,06,229</td>\n",
              "      <td>46,149</td>\n",
              "      <td>30.5k</td>\n",
              "      <td>100,000 years ago, at least six human species ...</td>\n",
              "      <td>history</td>\n",
              "    </tr>\n",
              "    <tr>\n",
              "      <th>1</th>\n",
              "      <td>Guns, Germs, and Steel: The Fates of Human Soc...</td>\n",
              "      <td>4.04</td>\n",
              "      <td>Jared Diamond</td>\n",
              "      <td>3,67,056</td>\n",
              "      <td>12,879</td>\n",
              "      <td>6,538</td>\n",
              "      <td>\"Diamond has written a book of remarkable scop...</td>\n",
              "      <td>history</td>\n",
              "    </tr>\n",
              "    <tr>\n",
              "      <th>2</th>\n",
              "      <td>A People's History of the United States</td>\n",
              "      <td>4.07</td>\n",
              "      <td>Howard Zinn</td>\n",
              "      <td>2,24,620</td>\n",
              "      <td>6,509</td>\n",
              "      <td>2,354</td>\n",
              "      <td>In the book, Zinn presented a different side o...</td>\n",
              "      <td>history</td>\n",
              "    </tr>\n",
              "    <tr>\n",
              "      <th>3</th>\n",
              "      <td>The Devil in the White City: Murder, Magic, an...</td>\n",
              "      <td>3.99</td>\n",
              "      <td>Erik Larson</td>\n",
              "      <td>6,13,157</td>\n",
              "      <td>36,644</td>\n",
              "      <td>64.2k</td>\n",
              "      <td>Author Erik Larson imbues the incredible event...</td>\n",
              "      <td>history</td>\n",
              "    </tr>\n",
              "    <tr>\n",
              "      <th>4</th>\n",
              "      <td>The Diary of a Young Girl</td>\n",
              "      <td>4.18</td>\n",
              "      <td>Anne Frank</td>\n",
              "      <td>33,13,033</td>\n",
              "      <td>35,591</td>\n",
              "      <td>4,621</td>\n",
              "      <td>Discovered in the attic in which she spent the...</td>\n",
              "      <td>history</td>\n",
              "    </tr>\n",
              "  </tbody>\n",
              "</table>\n",
              "</div>\n",
              "      <button class=\"colab-df-convert\" onclick=\"convertToInteractive('df-2c9bed20-aba0-4673-8465-4dd94a7c5339')\"\n",
              "              title=\"Convert this dataframe to an interactive table.\"\n",
              "              style=\"display:none;\">\n",
              "        \n",
              "  <svg xmlns=\"http://www.w3.org/2000/svg\" height=\"24px\"viewBox=\"0 0 24 24\"\n",
              "       width=\"24px\">\n",
              "    <path d=\"M0 0h24v24H0V0z\" fill=\"none\"/>\n",
              "    <path d=\"M18.56 5.44l.94 2.06.94-2.06 2.06-.94-2.06-.94-.94-2.06-.94 2.06-2.06.94zm-11 1L8.5 8.5l.94-2.06 2.06-.94-2.06-.94L8.5 2.5l-.94 2.06-2.06.94zm10 10l.94 2.06.94-2.06 2.06-.94-2.06-.94-.94-2.06-.94 2.06-2.06.94z\"/><path d=\"M17.41 7.96l-1.37-1.37c-.4-.4-.92-.59-1.43-.59-.52 0-1.04.2-1.43.59L10.3 9.45l-7.72 7.72c-.78.78-.78 2.05 0 2.83L4 21.41c.39.39.9.59 1.41.59.51 0 1.02-.2 1.41-.59l7.78-7.78 2.81-2.81c.8-.78.8-2.07 0-2.86zM5.41 20L4 18.59l7.72-7.72 1.47 1.35L5.41 20z\"/>\n",
              "  </svg>\n",
              "      </button>\n",
              "      \n",
              "  <style>\n",
              "    .colab-df-container {\n",
              "      display:flex;\n",
              "      flex-wrap:wrap;\n",
              "      gap: 12px;\n",
              "    }\n",
              "\n",
              "    .colab-df-convert {\n",
              "      background-color: #E8F0FE;\n",
              "      border: none;\n",
              "      border-radius: 50%;\n",
              "      cursor: pointer;\n",
              "      display: none;\n",
              "      fill: #1967D2;\n",
              "      height: 32px;\n",
              "      padding: 0 0 0 0;\n",
              "      width: 32px;\n",
              "    }\n",
              "\n",
              "    .colab-df-convert:hover {\n",
              "      background-color: #E2EBFA;\n",
              "      box-shadow: 0px 1px 2px rgba(60, 64, 67, 0.3), 0px 1px 3px 1px rgba(60, 64, 67, 0.15);\n",
              "      fill: #174EA6;\n",
              "    }\n",
              "\n",
              "    [theme=dark] .colab-df-convert {\n",
              "      background-color: #3B4455;\n",
              "      fill: #D2E3FC;\n",
              "    }\n",
              "\n",
              "    [theme=dark] .colab-df-convert:hover {\n",
              "      background-color: #434B5C;\n",
              "      box-shadow: 0px 1px 3px 1px rgba(0, 0, 0, 0.15);\n",
              "      filter: drop-shadow(0px 1px 2px rgba(0, 0, 0, 0.3));\n",
              "      fill: #FFFFFF;\n",
              "    }\n",
              "  </style>\n",
              "\n",
              "      <script>\n",
              "        const buttonEl =\n",
              "          document.querySelector('#df-2c9bed20-aba0-4673-8465-4dd94a7c5339 button.colab-df-convert');\n",
              "        buttonEl.style.display =\n",
              "          google.colab.kernel.accessAllowed ? 'block' : 'none';\n",
              "\n",
              "        async function convertToInteractive(key) {\n",
              "          const element = document.querySelector('#df-2c9bed20-aba0-4673-8465-4dd94a7c5339');\n",
              "          const dataTable =\n",
              "            await google.colab.kernel.invokeFunction('convertToInteractive',\n",
              "                                                     [key], {});\n",
              "          if (!dataTable) return;\n",
              "\n",
              "          const docLinkHtml = 'Like what you see? Visit the ' +\n",
              "            '<a target=\"_blank\" href=https://colab.research.google.com/notebooks/data_table.ipynb>data table notebook</a>'\n",
              "            + ' to learn more about interactive tables.';\n",
              "          element.innerHTML = '';\n",
              "          dataTable['output_type'] = 'display_data';\n",
              "          await google.colab.output.renderOutput(dataTable, element);\n",
              "          const docLink = document.createElement('div');\n",
              "          docLink.innerHTML = docLinkHtml;\n",
              "          element.appendChild(docLink);\n",
              "        }\n",
              "      </script>\n",
              "    </div>\n",
              "  </div>\n",
              "  "
            ],
            "text/plain": [
              "                                               title  rating  \\\n",
              "0              Sapiens: A Brief History of Humankind    4.39   \n",
              "1  Guns, Germs, and Steel: The Fates of Human Soc...    4.04   \n",
              "2            A People's History of the United States    4.07   \n",
              "3  The Devil in the White City: Murder, Magic, an...    3.99   \n",
              "4                          The Diary of a Young Girl    4.18   \n",
              "\n",
              "                name num_ratings num_reviews num_followers  \\\n",
              "0  Yuval Noah Harari    8,06,229      46,149         30.5k   \n",
              "1      Jared Diamond    3,67,056      12,879         6,538   \n",
              "2        Howard Zinn    2,24,620       6,509         2,354   \n",
              "3        Erik Larson    6,13,157      36,644         64.2k   \n",
              "4         Anne Frank   33,13,033      35,591         4,621   \n",
              "\n",
              "                                            synopsis    genre  \n",
              "0  100,000 years ago, at least six human species ...  history  \n",
              "1  \"Diamond has written a book of remarkable scop...  history  \n",
              "2  In the book, Zinn presented a different side o...  history  \n",
              "3  Author Erik Larson imbues the incredible event...  history  \n",
              "4  Discovered in the attic in which she spent the...  history  "
            ]
          },
          "execution_count": 5,
          "metadata": {},
          "output_type": "execute_result"
        }
      ],
      "source": [
        "#Drop Unnamed: 0 Column\n",
        "df.drop(columns = [\"Unnamed: 0\"], inplace = True)\n",
        "df.head()"
      ]
    },
    {
      "cell_type": "code",
      "execution_count": 6,
      "metadata": {
        "colab": {
          "base_uri": "https://localhost:8080/"
        },
        "id": "otVuyiVuxip3",
        "outputId": "41bac4e9-89c0-45ed-8e2f-fb36880d6619"
      },
      "outputs": [
        {
          "data": {
            "text/plain": [
              "title             object\n",
              "rating           float64\n",
              "name              object\n",
              "num_ratings       object\n",
              "num_reviews       object\n",
              "num_followers     object\n",
              "synopsis          object\n",
              "genre             object\n",
              "dtype: object"
            ]
          },
          "execution_count": 6,
          "metadata": {},
          "output_type": "execute_result"
        }
      ],
      "source": [
        "df.dtypes"
      ]
    },
    {
      "cell_type": "markdown",
      "metadata": {
        "id": "H0mUbgNwyzHX"
      },
      "source": [
        "#### **2.   Convert *num_followers* column to integer**"
      ]
    },
    {
      "cell_type": "code",
      "execution_count": 7,
      "metadata": {
        "id": "6fIZyhxp1NWc"
      },
      "outputs": [],
      "source": [
        "df['num_followers'].replace({'k': '*1000', ',': '', ' followers': '',}, regex=True, inplace=True) #Replace comma and k \n",
        "inter_m=df[\"num_followers\"].str.split(\"*\",expand=True).astype('float')                            #split columns and store in intermediate dataset\n",
        "inter_m = inter_m.fillna(1)                                                                       #fill NaN values in intermediate dataset with 1\n",
        "df[\"num_followers\"]=inter_m[0] * inter_m[1]                                                       #multiple columns and store in num_followers column\n",
        "df['num_followers'] = df['num_followers'].astype(int)                                             #change num_followers type to Integer"
      ]
    },
    {
      "cell_type": "code",
      "execution_count": 8,
      "metadata": {
        "colab": {
          "base_uri": "https://localhost:8080/"
        },
        "id": "WiDskjIS-BCP",
        "outputId": "20912143-9188-4b54-ce4e-b51cbcbe01f8"
      },
      "outputs": [
        {
          "data": {
            "text/plain": [
              "title             object\n",
              "rating           float64\n",
              "name              object\n",
              "num_ratings       object\n",
              "num_reviews       object\n",
              "num_followers      int64\n",
              "synopsis          object\n",
              "genre             object\n",
              "dtype: object"
            ]
          },
          "execution_count": 8,
          "metadata": {},
          "output_type": "execute_result"
        }
      ],
      "source": [
        "df.dtypes"
      ]
    },
    {
      "cell_type": "markdown",
      "metadata": {
        "id": "mFHyOBs5-z5e"
      },
      "source": [
        "#### **3.   Convert *num_reviews* column to integer**"
      ]
    },
    {
      "cell_type": "code",
      "execution_count": 9,
      "metadata": {
        "id": "R_BBhj5R_dWH"
      },
      "outputs": [],
      "source": [
        "def rev_clean(s):\n",
        "    s = re.sub(r'[,a-zA-Z]', \"\", s)   #Removing comma and any letter if present\n",
        "    return int(s)"
      ]
    },
    {
      "cell_type": "code",
      "execution_count": 10,
      "metadata": {
        "id": "UC5Sioinxiux"
      },
      "outputs": [],
      "source": [
        "df[\"num_reviews\"] = df['num_reviews'].apply(rev_clean)"
      ]
    },
    {
      "cell_type": "code",
      "execution_count": 11,
      "metadata": {
        "colab": {
          "base_uri": "https://localhost:8080/"
        },
        "id": "GvjbMGRx_3JO",
        "outputId": "af7998bf-156a-42c2-9f89-ad207b0a3f36"
      },
      "outputs": [
        {
          "data": {
            "text/plain": [
              "title             object\n",
              "rating           float64\n",
              "name              object\n",
              "num_ratings       object\n",
              "num_reviews        int64\n",
              "num_followers      int64\n",
              "synopsis          object\n",
              "genre             object\n",
              "dtype: object"
            ]
          },
          "execution_count": 11,
          "metadata": {},
          "output_type": "execute_result"
        }
      ],
      "source": [
        "df.dtypes"
      ]
    },
    {
      "cell_type": "markdown",
      "metadata": {
        "id": "ghFwhZpt__bI"
      },
      "source": [
        "#### **4.   Convert *num_ratings* column to integer**"
      ]
    },
    {
      "cell_type": "code",
      "execution_count": 12,
      "metadata": {
        "id": "rW0K-_VFAPhc"
      },
      "outputs": [],
      "source": [
        "df[\"num_ratings\"] = df['num_ratings'].apply(rev_clean)"
      ]
    },
    {
      "cell_type": "code",
      "execution_count": 13,
      "metadata": {
        "colab": {
          "base_uri": "https://localhost:8080/"
        },
        "id": "0b0jW-2j__u3",
        "outputId": "1148467d-6c5c-403a-ae4e-c7b92dc54de5"
      },
      "outputs": [
        {
          "name": "stdout",
          "output_type": "stream",
          "text": [
            "<class 'pandas.core.frame.DataFrame'>\n",
            "RangeIndex: 1539 entries, 0 to 1538\n",
            "Data columns (total 8 columns):\n",
            " #   Column         Non-Null Count  Dtype  \n",
            "---  ------         --------------  -----  \n",
            " 0   title          1539 non-null   object \n",
            " 1   rating         1539 non-null   float64\n",
            " 2   name           1539 non-null   object \n",
            " 3   num_ratings    1539 non-null   int64  \n",
            " 4   num_reviews    1539 non-null   int64  \n",
            " 5   num_followers  1539 non-null   int64  \n",
            " 6   synopsis       1539 non-null   object \n",
            " 7   genre          1539 non-null   object \n",
            "dtypes: float64(1), int64(3), object(4)\n",
            "memory usage: 96.3+ KB\n"
          ]
        }
      ],
      "source": [
        "df.info()"
      ]
    },
    {
      "cell_type": "markdown",
      "metadata": {
        "id": "EFoIxFQMBNS-"
      },
      "source": [
        "#### **4.   Clean *synopsis* column**"
      ]
    },
    {
      "cell_type": "code",
      "execution_count": 14,
      "metadata": {
        "id": "NPV1kSOBBloy"
      },
      "outputs": [],
      "source": [
        "import string\n",
        "def clean_text(text):\n",
        "    text = str(text).lower()                                          #Lowering the case\n",
        "    text = re.sub('\\[.*?\\]', '', text)                                #Remove any text in the square brackets\n",
        "    text = re.sub('https?://\\S+|www\\.\\S+', '', text)                  #Remove any links present \n",
        "    text = re.sub('<.*?>+', '', text)                                 \n",
        "    text = re.sub('[%s]' % re.escape(string.punctuation), '', text)   #Remove punctuation\n",
        "    text = re.sub('\\n', '', text)                                     #Removing the next line character\n",
        "    text = re.sub('\\w*\\d\\w*', '', text)                               #Removing the words contaitning numbers\n",
        "    return text"
      ]
    },
    {
      "cell_type": "code",
      "execution_count": 15,
      "metadata": {
        "id": "J9nUdUzPBlrW"
      },
      "outputs": [],
      "source": [
        "df['synopsis_clean'] = df['synopsis'].apply(clean_text)"
      ]
    },
    {
      "cell_type": "code",
      "execution_count": 16,
      "metadata": {
        "colab": {
          "base_uri": "https://localhost:8080/",
          "height": 419
        },
        "id": "r-GOa4GeBlue",
        "outputId": "b4172c51-5f00-4393-991c-39337ccb8b8d"
      },
      "outputs": [
        {
          "data": {
            "text/html": [
              "\n",
              "  <div id=\"df-b0632af5-a0a4-4c42-9a4e-550d5b9af335\">\n",
              "    <div class=\"colab-df-container\">\n",
              "      <div>\n",
              "<style scoped>\n",
              "    .dataframe tbody tr th:only-of-type {\n",
              "        vertical-align: middle;\n",
              "    }\n",
              "\n",
              "    .dataframe tbody tr th {\n",
              "        vertical-align: top;\n",
              "    }\n",
              "\n",
              "    .dataframe thead th {\n",
              "        text-align: right;\n",
              "    }\n",
              "</style>\n",
              "<table border=\"1\" class=\"dataframe\">\n",
              "  <thead>\n",
              "    <tr style=\"text-align: right;\">\n",
              "      <th></th>\n",
              "      <th>synopsis</th>\n",
              "      <th>synopsis_clean</th>\n",
              "    </tr>\n",
              "  </thead>\n",
              "  <tbody>\n",
              "    <tr>\n",
              "      <th>0</th>\n",
              "      <td>100,000 years ago, at least six human species ...</td>\n",
              "      <td>years ago at least six human species inhabite...</td>\n",
              "    </tr>\n",
              "    <tr>\n",
              "      <th>1</th>\n",
              "      <td>\"Diamond has written a book of remarkable scop...</td>\n",
              "      <td>diamond has written a book of remarkable scope...</td>\n",
              "    </tr>\n",
              "    <tr>\n",
              "      <th>2</th>\n",
              "      <td>In the book, Zinn presented a different side o...</td>\n",
              "      <td>in the book zinn presented a different side of...</td>\n",
              "    </tr>\n",
              "    <tr>\n",
              "      <th>3</th>\n",
              "      <td>Author Erik Larson imbues the incredible event...</td>\n",
              "      <td>author erik larson imbues the incredible event...</td>\n",
              "    </tr>\n",
              "    <tr>\n",
              "      <th>4</th>\n",
              "      <td>Discovered in the attic in which she spent the...</td>\n",
              "      <td>discovered in the attic in which she spent the...</td>\n",
              "    </tr>\n",
              "    <tr>\n",
              "      <th>...</th>\n",
              "      <td>...</td>\n",
              "      <td>...</td>\n",
              "    </tr>\n",
              "    <tr>\n",
              "      <th>1534</th>\n",
              "      <td>Atticus O’Sullivan, last of the Druids, lives ...</td>\n",
              "      <td>atticus o’sullivan last of the druids lives pe...</td>\n",
              "    </tr>\n",
              "    <tr>\n",
              "      <th>1535</th>\n",
              "      <td>Charlie Bucket's wonderful adventure begins wh...</td>\n",
              "      <td>charlie buckets wonderful adventure begins whe...</td>\n",
              "    </tr>\n",
              "    <tr>\n",
              "      <th>1536</th>\n",
              "      <td>\"I live for the dream that my children will be...</td>\n",
              "      <td>i live for the dream that my children will be ...</td>\n",
              "    </tr>\n",
              "    <tr>\n",
              "      <th>1537</th>\n",
              "      <td>Rose loves Dimitri, Dimitri might love Tasha, ...</td>\n",
              "      <td>rose loves dimitri dimitri might love tasha an...</td>\n",
              "    </tr>\n",
              "    <tr>\n",
              "      <th>1538</th>\n",
              "      <td>The Prince of no value\\nBrishen Khaskem, princ...</td>\n",
              "      <td>the prince of no valuebrishen khaskem prince o...</td>\n",
              "    </tr>\n",
              "  </tbody>\n",
              "</table>\n",
              "<p>1539 rows × 2 columns</p>\n",
              "</div>\n",
              "      <button class=\"colab-df-convert\" onclick=\"convertToInteractive('df-b0632af5-a0a4-4c42-9a4e-550d5b9af335')\"\n",
              "              title=\"Convert this dataframe to an interactive table.\"\n",
              "              style=\"display:none;\">\n",
              "        \n",
              "  <svg xmlns=\"http://www.w3.org/2000/svg\" height=\"24px\"viewBox=\"0 0 24 24\"\n",
              "       width=\"24px\">\n",
              "    <path d=\"M0 0h24v24H0V0z\" fill=\"none\"/>\n",
              "    <path d=\"M18.56 5.44l.94 2.06.94-2.06 2.06-.94-2.06-.94-.94-2.06-.94 2.06-2.06.94zm-11 1L8.5 8.5l.94-2.06 2.06-.94-2.06-.94L8.5 2.5l-.94 2.06-2.06.94zm10 10l.94 2.06.94-2.06 2.06-.94-2.06-.94-.94-2.06-.94 2.06-2.06.94z\"/><path d=\"M17.41 7.96l-1.37-1.37c-.4-.4-.92-.59-1.43-.59-.52 0-1.04.2-1.43.59L10.3 9.45l-7.72 7.72c-.78.78-.78 2.05 0 2.83L4 21.41c.39.39.9.59 1.41.59.51 0 1.02-.2 1.41-.59l7.78-7.78 2.81-2.81c.8-.78.8-2.07 0-2.86zM5.41 20L4 18.59l7.72-7.72 1.47 1.35L5.41 20z\"/>\n",
              "  </svg>\n",
              "      </button>\n",
              "      \n",
              "  <style>\n",
              "    .colab-df-container {\n",
              "      display:flex;\n",
              "      flex-wrap:wrap;\n",
              "      gap: 12px;\n",
              "    }\n",
              "\n",
              "    .colab-df-convert {\n",
              "      background-color: #E8F0FE;\n",
              "      border: none;\n",
              "      border-radius: 50%;\n",
              "      cursor: pointer;\n",
              "      display: none;\n",
              "      fill: #1967D2;\n",
              "      height: 32px;\n",
              "      padding: 0 0 0 0;\n",
              "      width: 32px;\n",
              "    }\n",
              "\n",
              "    .colab-df-convert:hover {\n",
              "      background-color: #E2EBFA;\n",
              "      box-shadow: 0px 1px 2px rgba(60, 64, 67, 0.3), 0px 1px 3px 1px rgba(60, 64, 67, 0.15);\n",
              "      fill: #174EA6;\n",
              "    }\n",
              "\n",
              "    [theme=dark] .colab-df-convert {\n",
              "      background-color: #3B4455;\n",
              "      fill: #D2E3FC;\n",
              "    }\n",
              "\n",
              "    [theme=dark] .colab-df-convert:hover {\n",
              "      background-color: #434B5C;\n",
              "      box-shadow: 0px 1px 3px 1px rgba(0, 0, 0, 0.15);\n",
              "      filter: drop-shadow(0px 1px 2px rgba(0, 0, 0, 0.3));\n",
              "      fill: #FFFFFF;\n",
              "    }\n",
              "  </style>\n",
              "\n",
              "      <script>\n",
              "        const buttonEl =\n",
              "          document.querySelector('#df-b0632af5-a0a4-4c42-9a4e-550d5b9af335 button.colab-df-convert');\n",
              "        buttonEl.style.display =\n",
              "          google.colab.kernel.accessAllowed ? 'block' : 'none';\n",
              "\n",
              "        async function convertToInteractive(key) {\n",
              "          const element = document.querySelector('#df-b0632af5-a0a4-4c42-9a4e-550d5b9af335');\n",
              "          const dataTable =\n",
              "            await google.colab.kernel.invokeFunction('convertToInteractive',\n",
              "                                                     [key], {});\n",
              "          if (!dataTable) return;\n",
              "\n",
              "          const docLinkHtml = 'Like what you see? Visit the ' +\n",
              "            '<a target=\"_blank\" href=https://colab.research.google.com/notebooks/data_table.ipynb>data table notebook</a>'\n",
              "            + ' to learn more about interactive tables.';\n",
              "          element.innerHTML = '';\n",
              "          dataTable['output_type'] = 'display_data';\n",
              "          await google.colab.output.renderOutput(dataTable, element);\n",
              "          const docLink = document.createElement('div');\n",
              "          docLink.innerHTML = docLinkHtml;\n",
              "          element.appendChild(docLink);\n",
              "        }\n",
              "      </script>\n",
              "    </div>\n",
              "  </div>\n",
              "  "
            ],
            "text/plain": [
              "                                               synopsis  \\\n",
              "0     100,000 years ago, at least six human species ...   \n",
              "1     \"Diamond has written a book of remarkable scop...   \n",
              "2     In the book, Zinn presented a different side o...   \n",
              "3     Author Erik Larson imbues the incredible event...   \n",
              "4     Discovered in the attic in which she spent the...   \n",
              "...                                                 ...   \n",
              "1534  Atticus O’Sullivan, last of the Druids, lives ...   \n",
              "1535  Charlie Bucket's wonderful adventure begins wh...   \n",
              "1536  \"I live for the dream that my children will be...   \n",
              "1537  Rose loves Dimitri, Dimitri might love Tasha, ...   \n",
              "1538  The Prince of no value\\nBrishen Khaskem, princ...   \n",
              "\n",
              "                                         synopsis_clean  \n",
              "0      years ago at least six human species inhabite...  \n",
              "1     diamond has written a book of remarkable scope...  \n",
              "2     in the book zinn presented a different side of...  \n",
              "3     author erik larson imbues the incredible event...  \n",
              "4     discovered in the attic in which she spent the...  \n",
              "...                                                 ...  \n",
              "1534  atticus o’sullivan last of the druids lives pe...  \n",
              "1535  charlie buckets wonderful adventure begins whe...  \n",
              "1536  i live for the dream that my children will be ...  \n",
              "1537  rose loves dimitri dimitri might love tasha an...  \n",
              "1538  the prince of no valuebrishen khaskem prince o...  \n",
              "\n",
              "[1539 rows x 2 columns]"
            ]
          },
          "execution_count": 16,
          "metadata": {},
          "output_type": "execute_result"
        }
      ],
      "source": [
        "df[['synopsis', 'synopsis_clean']]"
      ]
    },
    {
      "cell_type": "code",
      "execution_count": 17,
      "metadata": {
        "id": "9twyAwPdEps7"
      },
      "outputs": [],
      "source": [
        "df.drop(columns = ['synopsis'], inplace=True)\n",
        "df.rename(columns = {'synopsis_clean': 'synopsis'}, inplace=True)"
      ]
    },
    {
      "cell_type": "code",
      "execution_count": 18,
      "metadata": {
        "colab": {
          "base_uri": "https://localhost:8080/",
          "height": 204
        },
        "id": "iK27_xhOzTvI",
        "outputId": "51e3014c-2172-4977-d47f-41d6da214715"
      },
      "outputs": [
        {
          "data": {
            "text/html": [
              "\n",
              "  <div id=\"df-088eaddc-fe06-4e99-95d8-04253f53ea78\">\n",
              "    <div class=\"colab-df-container\">\n",
              "      <div>\n",
              "<style scoped>\n",
              "    .dataframe tbody tr th:only-of-type {\n",
              "        vertical-align: middle;\n",
              "    }\n",
              "\n",
              "    .dataframe tbody tr th {\n",
              "        vertical-align: top;\n",
              "    }\n",
              "\n",
              "    .dataframe thead th {\n",
              "        text-align: right;\n",
              "    }\n",
              "</style>\n",
              "<table border=\"1\" class=\"dataframe\">\n",
              "  <thead>\n",
              "    <tr style=\"text-align: right;\">\n",
              "      <th></th>\n",
              "      <th>title</th>\n",
              "      <th>rating</th>\n",
              "      <th>name</th>\n",
              "      <th>num_ratings</th>\n",
              "      <th>num_reviews</th>\n",
              "      <th>num_followers</th>\n",
              "      <th>genre</th>\n",
              "      <th>synopsis</th>\n",
              "    </tr>\n",
              "  </thead>\n",
              "  <tbody>\n",
              "    <tr>\n",
              "      <th>0</th>\n",
              "      <td>Sapiens: A Brief History of Humankind</td>\n",
              "      <td>4.39</td>\n",
              "      <td>Yuval Noah Harari</td>\n",
              "      <td>806229</td>\n",
              "      <td>46149</td>\n",
              "      <td>30500</td>\n",
              "      <td>history</td>\n",
              "      <td>years ago at least six human species inhabite...</td>\n",
              "    </tr>\n",
              "    <tr>\n",
              "      <th>1</th>\n",
              "      <td>Guns, Germs, and Steel: The Fates of Human Soc...</td>\n",
              "      <td>4.04</td>\n",
              "      <td>Jared Diamond</td>\n",
              "      <td>367056</td>\n",
              "      <td>12879</td>\n",
              "      <td>6538</td>\n",
              "      <td>history</td>\n",
              "      <td>diamond has written a book of remarkable scope...</td>\n",
              "    </tr>\n",
              "    <tr>\n",
              "      <th>2</th>\n",
              "      <td>A People's History of the United States</td>\n",
              "      <td>4.07</td>\n",
              "      <td>Howard Zinn</td>\n",
              "      <td>224620</td>\n",
              "      <td>6509</td>\n",
              "      <td>2354</td>\n",
              "      <td>history</td>\n",
              "      <td>in the book zinn presented a different side of...</td>\n",
              "    </tr>\n",
              "    <tr>\n",
              "      <th>3</th>\n",
              "      <td>The Devil in the White City: Murder, Magic, an...</td>\n",
              "      <td>3.99</td>\n",
              "      <td>Erik Larson</td>\n",
              "      <td>613157</td>\n",
              "      <td>36644</td>\n",
              "      <td>64200</td>\n",
              "      <td>history</td>\n",
              "      <td>author erik larson imbues the incredible event...</td>\n",
              "    </tr>\n",
              "    <tr>\n",
              "      <th>4</th>\n",
              "      <td>The Diary of a Young Girl</td>\n",
              "      <td>4.18</td>\n",
              "      <td>Anne Frank</td>\n",
              "      <td>3313033</td>\n",
              "      <td>35591</td>\n",
              "      <td>4621</td>\n",
              "      <td>history</td>\n",
              "      <td>discovered in the attic in which she spent the...</td>\n",
              "    </tr>\n",
              "  </tbody>\n",
              "</table>\n",
              "</div>\n",
              "      <button class=\"colab-df-convert\" onclick=\"convertToInteractive('df-088eaddc-fe06-4e99-95d8-04253f53ea78')\"\n",
              "              title=\"Convert this dataframe to an interactive table.\"\n",
              "              style=\"display:none;\">\n",
              "        \n",
              "  <svg xmlns=\"http://www.w3.org/2000/svg\" height=\"24px\"viewBox=\"0 0 24 24\"\n",
              "       width=\"24px\">\n",
              "    <path d=\"M0 0h24v24H0V0z\" fill=\"none\"/>\n",
              "    <path d=\"M18.56 5.44l.94 2.06.94-2.06 2.06-.94-2.06-.94-.94-2.06-.94 2.06-2.06.94zm-11 1L8.5 8.5l.94-2.06 2.06-.94-2.06-.94L8.5 2.5l-.94 2.06-2.06.94zm10 10l.94 2.06.94-2.06 2.06-.94-2.06-.94-.94-2.06-.94 2.06-2.06.94z\"/><path d=\"M17.41 7.96l-1.37-1.37c-.4-.4-.92-.59-1.43-.59-.52 0-1.04.2-1.43.59L10.3 9.45l-7.72 7.72c-.78.78-.78 2.05 0 2.83L4 21.41c.39.39.9.59 1.41.59.51 0 1.02-.2 1.41-.59l7.78-7.78 2.81-2.81c.8-.78.8-2.07 0-2.86zM5.41 20L4 18.59l7.72-7.72 1.47 1.35L5.41 20z\"/>\n",
              "  </svg>\n",
              "      </button>\n",
              "      \n",
              "  <style>\n",
              "    .colab-df-container {\n",
              "      display:flex;\n",
              "      flex-wrap:wrap;\n",
              "      gap: 12px;\n",
              "    }\n",
              "\n",
              "    .colab-df-convert {\n",
              "      background-color: #E8F0FE;\n",
              "      border: none;\n",
              "      border-radius: 50%;\n",
              "      cursor: pointer;\n",
              "      display: none;\n",
              "      fill: #1967D2;\n",
              "      height: 32px;\n",
              "      padding: 0 0 0 0;\n",
              "      width: 32px;\n",
              "    }\n",
              "\n",
              "    .colab-df-convert:hover {\n",
              "      background-color: #E2EBFA;\n",
              "      box-shadow: 0px 1px 2px rgba(60, 64, 67, 0.3), 0px 1px 3px 1px rgba(60, 64, 67, 0.15);\n",
              "      fill: #174EA6;\n",
              "    }\n",
              "\n",
              "    [theme=dark] .colab-df-convert {\n",
              "      background-color: #3B4455;\n",
              "      fill: #D2E3FC;\n",
              "    }\n",
              "\n",
              "    [theme=dark] .colab-df-convert:hover {\n",
              "      background-color: #434B5C;\n",
              "      box-shadow: 0px 1px 3px 1px rgba(0, 0, 0, 0.15);\n",
              "      filter: drop-shadow(0px 1px 2px rgba(0, 0, 0, 0.3));\n",
              "      fill: #FFFFFF;\n",
              "    }\n",
              "  </style>\n",
              "\n",
              "      <script>\n",
              "        const buttonEl =\n",
              "          document.querySelector('#df-088eaddc-fe06-4e99-95d8-04253f53ea78 button.colab-df-convert');\n",
              "        buttonEl.style.display =\n",
              "          google.colab.kernel.accessAllowed ? 'block' : 'none';\n",
              "\n",
              "        async function convertToInteractive(key) {\n",
              "          const element = document.querySelector('#df-088eaddc-fe06-4e99-95d8-04253f53ea78');\n",
              "          const dataTable =\n",
              "            await google.colab.kernel.invokeFunction('convertToInteractive',\n",
              "                                                     [key], {});\n",
              "          if (!dataTable) return;\n",
              "\n",
              "          const docLinkHtml = 'Like what you see? Visit the ' +\n",
              "            '<a target=\"_blank\" href=https://colab.research.google.com/notebooks/data_table.ipynb>data table notebook</a>'\n",
              "            + ' to learn more about interactive tables.';\n",
              "          element.innerHTML = '';\n",
              "          dataTable['output_type'] = 'display_data';\n",
              "          await google.colab.output.renderOutput(dataTable, element);\n",
              "          const docLink = document.createElement('div');\n",
              "          docLink.innerHTML = docLinkHtml;\n",
              "          element.appendChild(docLink);\n",
              "        }\n",
              "      </script>\n",
              "    </div>\n",
              "  </div>\n",
              "  "
            ],
            "text/plain": [
              "                                               title  rating  \\\n",
              "0              Sapiens: A Brief History of Humankind    4.39   \n",
              "1  Guns, Germs, and Steel: The Fates of Human Soc...    4.04   \n",
              "2            A People's History of the United States    4.07   \n",
              "3  The Devil in the White City: Murder, Magic, an...    3.99   \n",
              "4                          The Diary of a Young Girl    4.18   \n",
              "\n",
              "                name  num_ratings  num_reviews  num_followers    genre  \\\n",
              "0  Yuval Noah Harari       806229        46149          30500  history   \n",
              "1      Jared Diamond       367056        12879           6538  history   \n",
              "2        Howard Zinn       224620         6509           2354  history   \n",
              "3        Erik Larson       613157        36644          64200  history   \n",
              "4         Anne Frank      3313033        35591           4621  history   \n",
              "\n",
              "                                            synopsis  \n",
              "0   years ago at least six human species inhabite...  \n",
              "1  diamond has written a book of remarkable scope...  \n",
              "2  in the book zinn presented a different side of...  \n",
              "3  author erik larson imbues the incredible event...  \n",
              "4  discovered in the attic in which she spent the...  "
            ]
          },
          "execution_count": 18,
          "metadata": {},
          "output_type": "execute_result"
        }
      ],
      "source": [
        "df.head()"
      ]
    },
    {
      "cell_type": "markdown",
      "metadata": {
        "id": "l-2YpyJ6FWV7"
      },
      "source": [
        "#### **5.   Stopwords removal and stemming**"
      ]
    },
    {
      "cell_type": "code",
      "execution_count": 19,
      "metadata": {
        "id": "dfW-LSsyxMTq"
      },
      "outputs": [],
      "source": [
        "#Remove stopwords\n",
        "stop_words = stopwords.words('english')\n",
        "df['synopsis'] = df['synopsis'].apply(lambda x: ' '.join([word for word in x.split() if word not in (stop_words)]))"
      ]
    },
    {
      "cell_type": "code",
      "execution_count": 20,
      "metadata": {
        "id": "H5_7IY-M0-bK"
      },
      "outputs": [],
      "source": [
        "#Stem words\n",
        "stemmer = SnowballStemmer(\"english\")\n",
        "def stem_sentences(sentence):\n",
        "    tokens = sentence.split()\n",
        "    stemmed_tokens = [stemmer.stem(token) for token in tokens]\n",
        "    return ' '.join(stemmed_tokens)\n",
        "\n",
        "df['synopsis'] = df['synopsis'].apply(stem_sentences)"
      ]
    },
    {
      "cell_type": "code",
      "execution_count": 21,
      "metadata": {
        "colab": {
          "base_uri": "https://localhost:8080/",
          "height": 105
        },
        "id": "l6SsxLtqxVmI",
        "outputId": "8dcdac83-f784-41c9-d8b2-6f2c4b5a6150"
      },
      "outputs": [
        {
          "data": {
            "application/vnd.google.colaboratory.intrinsic+json": {
              "type": "string"
            },
            "text/plain": [
              "'year ago least six human speci inhabit earth today one us homo sapienshow speci succeed battl domin forag ancestor come togeth creat citi kingdom come believ god nation human right trust money book law enslav bureaucraci timet consumer world like millennia comein sapien dr yuval noah harari span whole human histori first human walk earth radic – sometim devast – breakthrough cognit agricultur scientif revolut draw insight biolog anthropolog paleontolog econom explor current histori shape human societi anim plant around us even person becom happier histori unfold ever free behaviour heritag ancestor anyth influenc cours centuri comebold widerang provoc sapien challeng everyth thought knew human thought action power futur'"
            ]
          },
          "execution_count": 21,
          "metadata": {},
          "output_type": "execute_result"
        }
      ],
      "source": [
        "df['synopsis'][0]"
      ]
    },
    {
      "cell_type": "code",
      "execution_count": 22,
      "metadata": {
        "colab": {
          "base_uri": "https://localhost:8080/",
          "height": 204
        },
        "id": "Whgt5h5MFWuG",
        "outputId": "e279b344-bcc0-4b8a-aff3-36d1b52308a3"
      },
      "outputs": [
        {
          "data": {
            "text/html": [
              "\n",
              "  <div id=\"df-3b9d9c92-2d3f-498b-9cfd-08e519054e64\">\n",
              "    <div class=\"colab-df-container\">\n",
              "      <div>\n",
              "<style scoped>\n",
              "    .dataframe tbody tr th:only-of-type {\n",
              "        vertical-align: middle;\n",
              "    }\n",
              "\n",
              "    .dataframe tbody tr th {\n",
              "        vertical-align: top;\n",
              "    }\n",
              "\n",
              "    .dataframe thead th {\n",
              "        text-align: right;\n",
              "    }\n",
              "</style>\n",
              "<table border=\"1\" class=\"dataframe\">\n",
              "  <thead>\n",
              "    <tr style=\"text-align: right;\">\n",
              "      <th></th>\n",
              "      <th>title</th>\n",
              "      <th>rating</th>\n",
              "      <th>name</th>\n",
              "      <th>num_ratings</th>\n",
              "      <th>num_reviews</th>\n",
              "      <th>num_followers</th>\n",
              "      <th>genre</th>\n",
              "      <th>synopsis</th>\n",
              "    </tr>\n",
              "  </thead>\n",
              "  <tbody>\n",
              "    <tr>\n",
              "      <th>0</th>\n",
              "      <td>Sapiens: A Brief History of Humankind</td>\n",
              "      <td>4.39</td>\n",
              "      <td>Yuval Noah Harari</td>\n",
              "      <td>806229</td>\n",
              "      <td>46149</td>\n",
              "      <td>30500</td>\n",
              "      <td>history</td>\n",
              "      <td>year ago least six human speci inhabit earth t...</td>\n",
              "    </tr>\n",
              "    <tr>\n",
              "      <th>1</th>\n",
              "      <td>Guns, Germs, and Steel: The Fates of Human Soc...</td>\n",
              "      <td>4.04</td>\n",
              "      <td>Jared Diamond</td>\n",
              "      <td>367056</td>\n",
              "      <td>12879</td>\n",
              "      <td>6538</td>\n",
              "      <td>history</td>\n",
              "      <td>diamond written book remark scope one import r...</td>\n",
              "    </tr>\n",
              "    <tr>\n",
              "      <th>2</th>\n",
              "      <td>A People's History of the United States</td>\n",
              "      <td>4.07</td>\n",
              "      <td>Howard Zinn</td>\n",
              "      <td>224620</td>\n",
              "      <td>6509</td>\n",
              "      <td>2354</td>\n",
              "      <td>history</td>\n",
              "      <td>book zinn present differ side histori tradit f...</td>\n",
              "    </tr>\n",
              "    <tr>\n",
              "      <th>3</th>\n",
              "      <td>The Devil in the White City: Murder, Magic, an...</td>\n",
              "      <td>3.99</td>\n",
              "      <td>Erik Larson</td>\n",
              "      <td>613157</td>\n",
              "      <td>36644</td>\n",
              "      <td>64200</td>\n",
              "      <td>history</td>\n",
              "      <td>author erik larson imbu incred event surround ...</td>\n",
              "    </tr>\n",
              "    <tr>\n",
              "      <th>4</th>\n",
              "      <td>The Diary of a Young Girl</td>\n",
              "      <td>4.18</td>\n",
              "      <td>Anne Frank</td>\n",
              "      <td>3313033</td>\n",
              "      <td>35591</td>\n",
              "      <td>4621</td>\n",
              "      <td>history</td>\n",
              "      <td>discov attic spent last year life ann frank re...</td>\n",
              "    </tr>\n",
              "  </tbody>\n",
              "</table>\n",
              "</div>\n",
              "      <button class=\"colab-df-convert\" onclick=\"convertToInteractive('df-3b9d9c92-2d3f-498b-9cfd-08e519054e64')\"\n",
              "              title=\"Convert this dataframe to an interactive table.\"\n",
              "              style=\"display:none;\">\n",
              "        \n",
              "  <svg xmlns=\"http://www.w3.org/2000/svg\" height=\"24px\"viewBox=\"0 0 24 24\"\n",
              "       width=\"24px\">\n",
              "    <path d=\"M0 0h24v24H0V0z\" fill=\"none\"/>\n",
              "    <path d=\"M18.56 5.44l.94 2.06.94-2.06 2.06-.94-2.06-.94-.94-2.06-.94 2.06-2.06.94zm-11 1L8.5 8.5l.94-2.06 2.06-.94-2.06-.94L8.5 2.5l-.94 2.06-2.06.94zm10 10l.94 2.06.94-2.06 2.06-.94-2.06-.94-.94-2.06-.94 2.06-2.06.94z\"/><path d=\"M17.41 7.96l-1.37-1.37c-.4-.4-.92-.59-1.43-.59-.52 0-1.04.2-1.43.59L10.3 9.45l-7.72 7.72c-.78.78-.78 2.05 0 2.83L4 21.41c.39.39.9.59 1.41.59.51 0 1.02-.2 1.41-.59l7.78-7.78 2.81-2.81c.8-.78.8-2.07 0-2.86zM5.41 20L4 18.59l7.72-7.72 1.47 1.35L5.41 20z\"/>\n",
              "  </svg>\n",
              "      </button>\n",
              "      \n",
              "  <style>\n",
              "    .colab-df-container {\n",
              "      display:flex;\n",
              "      flex-wrap:wrap;\n",
              "      gap: 12px;\n",
              "    }\n",
              "\n",
              "    .colab-df-convert {\n",
              "      background-color: #E8F0FE;\n",
              "      border: none;\n",
              "      border-radius: 50%;\n",
              "      cursor: pointer;\n",
              "      display: none;\n",
              "      fill: #1967D2;\n",
              "      height: 32px;\n",
              "      padding: 0 0 0 0;\n",
              "      width: 32px;\n",
              "    }\n",
              "\n",
              "    .colab-df-convert:hover {\n",
              "      background-color: #E2EBFA;\n",
              "      box-shadow: 0px 1px 2px rgba(60, 64, 67, 0.3), 0px 1px 3px 1px rgba(60, 64, 67, 0.15);\n",
              "      fill: #174EA6;\n",
              "    }\n",
              "\n",
              "    [theme=dark] .colab-df-convert {\n",
              "      background-color: #3B4455;\n",
              "      fill: #D2E3FC;\n",
              "    }\n",
              "\n",
              "    [theme=dark] .colab-df-convert:hover {\n",
              "      background-color: #434B5C;\n",
              "      box-shadow: 0px 1px 3px 1px rgba(0, 0, 0, 0.15);\n",
              "      filter: drop-shadow(0px 1px 2px rgba(0, 0, 0, 0.3));\n",
              "      fill: #FFFFFF;\n",
              "    }\n",
              "  </style>\n",
              "\n",
              "      <script>\n",
              "        const buttonEl =\n",
              "          document.querySelector('#df-3b9d9c92-2d3f-498b-9cfd-08e519054e64 button.colab-df-convert');\n",
              "        buttonEl.style.display =\n",
              "          google.colab.kernel.accessAllowed ? 'block' : 'none';\n",
              "\n",
              "        async function convertToInteractive(key) {\n",
              "          const element = document.querySelector('#df-3b9d9c92-2d3f-498b-9cfd-08e519054e64');\n",
              "          const dataTable =\n",
              "            await google.colab.kernel.invokeFunction('convertToInteractive',\n",
              "                                                     [key], {});\n",
              "          if (!dataTable) return;\n",
              "\n",
              "          const docLinkHtml = 'Like what you see? Visit the ' +\n",
              "            '<a target=\"_blank\" href=https://colab.research.google.com/notebooks/data_table.ipynb>data table notebook</a>'\n",
              "            + ' to learn more about interactive tables.';\n",
              "          element.innerHTML = '';\n",
              "          dataTable['output_type'] = 'display_data';\n",
              "          await google.colab.output.renderOutput(dataTable, element);\n",
              "          const docLink = document.createElement('div');\n",
              "          docLink.innerHTML = docLinkHtml;\n",
              "          element.appendChild(docLink);\n",
              "        }\n",
              "      </script>\n",
              "    </div>\n",
              "  </div>\n",
              "  "
            ],
            "text/plain": [
              "                                               title  rating  \\\n",
              "0              Sapiens: A Brief History of Humankind    4.39   \n",
              "1  Guns, Germs, and Steel: The Fates of Human Soc...    4.04   \n",
              "2            A People's History of the United States    4.07   \n",
              "3  The Devil in the White City: Murder, Magic, an...    3.99   \n",
              "4                          The Diary of a Young Girl    4.18   \n",
              "\n",
              "                name  num_ratings  num_reviews  num_followers    genre  \\\n",
              "0  Yuval Noah Harari       806229        46149          30500  history   \n",
              "1      Jared Diamond       367056        12879           6538  history   \n",
              "2        Howard Zinn       224620         6509           2354  history   \n",
              "3        Erik Larson       613157        36644          64200  history   \n",
              "4         Anne Frank      3313033        35591           4621  history   \n",
              "\n",
              "                                            synopsis  \n",
              "0  year ago least six human speci inhabit earth t...  \n",
              "1  diamond written book remark scope one import r...  \n",
              "2  book zinn present differ side histori tradit f...  \n",
              "3  author erik larson imbu incred event surround ...  \n",
              "4  discov attic spent last year life ann frank re...  "
            ]
          },
          "execution_count": 22,
          "metadata": {},
          "output_type": "execute_result"
        }
      ],
      "source": [
        "df.head()"
      ]
    },
    {
      "cell_type": "markdown",
      "metadata": {
        "id": "MhwW1ybfzDHE"
      },
      "source": [
        "## **Data Exploration**"
      ]
    },
    {
      "cell_type": "code",
      "execution_count": 23,
      "metadata": {
        "colab": {
          "base_uri": "https://localhost:8080/"
        },
        "id": "3YCaZ4AdxQEj",
        "outputId": "ce9c1599-b122-4c81-f1ab-e0a3a0c4de1b"
      },
      "outputs": [
        {
          "data": {
            "text/plain": [
              "thriller           481\n",
              "fantasy            348\n",
              "romance            111\n",
              "horror             100\n",
              "history             99\n",
              "psychology          99\n",
              "travel              98\n",
              "science             79\n",
              "sports              79\n",
              "science_fiction     45\n",
              "Name: genre, dtype: int64"
            ]
          },
          "execution_count": 23,
          "metadata": {},
          "output_type": "execute_result"
        }
      ],
      "source": [
        "df['genre'].value_counts()"
      ]
    },
    {
      "cell_type": "code",
      "execution_count": 24,
      "metadata": {
        "colab": {
          "base_uri": "https://localhost:8080/"
        },
        "id": "aOyTW8YtwTD4",
        "outputId": "cb4f8ef8-0326-4d63-b566-b151d10628dc"
      },
      "outputs": [
        {
          "name": "stdout",
          "output_type": "stream",
          "text": [
            "['history' 'horror' 'psychology' 'romance' 'science' 'science_fiction'\n",
            " 'sports' 'thriller' 'travel' 'fantasy']\n",
            "10\n"
          ]
        }
      ],
      "source": [
        "print(df['genre'].unique())\n",
        "print(df['genre'].nunique())"
      ]
    },
    {
      "cell_type": "code",
      "execution_count": 25,
      "metadata": {
        "colab": {
          "base_uri": "https://localhost:8080/",
          "height": 351
        },
        "id": "OtWhKkOfsWoj",
        "outputId": "00974519-a3bf-475b-d427-baff8eb614f8"
      },
      "outputs": [
        {
          "data": {
            "image/png": "[encoded data removed]",
            "text/plain": [
              "<Figure size 720x360 with 1 Axes>"
            ]
          },
          "metadata": {
            "needs_background": "light"
          },
          "output_type": "display_data"
        }
      ],
      "source": [
        "#Generating a countplot for target label\n",
        "plt.figure(figsize=(10,5))\n",
        "sns.barplot(x=df['genre'].value_counts().index,y=df['genre'].value_counts())\n",
        "plt.title('Genre Count')\n",
        "plt.xlabel('Genres')\n",
        "plt.ylabel('Count');"
      ]
    },
    {
      "cell_type": "code",
      "execution_count": 26,
      "metadata": {
        "colab": {
          "base_uri": "https://localhost:8080/",
          "height": 482
        },
        "id": "jNyMdDdCsWrZ",
        "outputId": "c7b57f4f-cf83-4341-c7ce-0c569776d709"
      },
      "outputs": [
        {
          "data": {
            "image/png": "[encoded data removed]",
            "text/plain": [
              "<Figure size 720x576 with 1 Axes>"
            ]
          },
          "metadata": {},
          "output_type": "display_data"
        }
      ],
      "source": [
        "#Generating a pie chart for target label\n",
        "plt.figure(figsize=(10,8))\n",
        "plt.pie(x=df['genre'].value_counts(),labels=df['genre'].value_counts().index,textprops={'fontsize':10},startangle=150,autopct='%1.0f%%')\n",
        "plt.title('Genre Count');"
      ]
    },
    {
      "cell_type": "code",
      "execution_count": 27,
      "metadata": {
        "colab": {
          "base_uri": "https://localhost:8080/"
        },
        "id": "nDUAjQeevOt3",
        "outputId": "56af2815-3054-4a4a-cd5b-5913ed60b213"
      },
      "outputs": [
        {
          "data": {
            "text/plain": [
              "thriller           481\n",
              "fantasy            348\n",
              "romance            111\n",
              "horror             100\n",
              "history             99\n",
              "psychology          99\n",
              "travel              98\n",
              "science             79\n",
              "sports              79\n",
              "science_fiction     45\n",
              "Name: genre, dtype: int64"
            ]
          },
          "execution_count": 27,
          "metadata": {},
          "output_type": "execute_result"
        }
      ],
      "source": [
        "df['genre'].value_counts()"
      ]
    }
  ],
  "metadata": {
    "accelerator": "TPU",
    "colab": {
      "provenance": []
    },
    "gpuClass": "standard",
    "kernelspec": {
      "display_name": "Python 3",
      "name": "python3"
    },
    "language_info": {
      "name": "python"
    }
  },
  "nbformat": 4,
  "nbformat_minor": 0
}
